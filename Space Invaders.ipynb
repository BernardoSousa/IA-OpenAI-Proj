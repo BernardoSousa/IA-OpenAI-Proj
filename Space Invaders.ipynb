{
 "cells": [
  {
   "cell_type": "markdown",
   "metadata": {},
   "source": [
    "# Space Invaders\n",
    "### DEPENDENCIES:\n",
    "\n",
    "1. gym & gym[atari] v.0.19.0\n",
    "2. pyglet version v.1.5.11\n",
    "3. stable_baselines3 1.3.0\n",
    "4. SWIG v.3.0.12 (http://www.swig.org/download.html)\n",
    "5. Keras-RL2 1.0.5\n",
    "6. tensorflow v.1.14.0\n",
    "7. ale-py 0.7.3\n",
    "\n",
    "#### Microsoft Visual C++ 14.0 or greater is required."
   ]
  },
  {
   "cell_type": "code",
   "execution_count": null,
   "metadata": {},
   "outputs": [],
   "source": [
    "!pip install gym\n",
    "!pip install gym[atari]\n",
    "!pip install pyglet==1.5.11\n",
    "!pip install stable_baselines3\n",
    "!pip install keras-rl2\n",
    "!pip install tensorflow==1.14.0\n",
    "!pip install ale-py"
   ]
  },
  {
   "cell_type": "markdown",
   "metadata": {},
   "source": [
    "# 1. Test Random Environment with OpenAI Gym"
   ]
  },
  {
   "cell_type": "code",
   "execution_count": null,
   "metadata": {},
   "outputs": [],
   "source": [
    "import gym \n",
    "import random"
   ]
  },
  {
   "cell_type": "code",
   "execution_count": null,
   "metadata": {},
   "outputs": [],
   "source": [
    "import gym \n",
    "import random\n",
    "# defining the environment\n",
    "env = gym.make('SpaceInvaders-v0')\n",
    "# grabbing the height, width and channels from the environment frame to construct the neural network\n",
    "height, width, channels = env.observation_space.shape\n",
    "# grabbing all the possible actions the agent can do\n",
    "actions = env.action_space.n"
   ]
  },
  {
   "cell_type": "code",
   "execution_count": null,
   "metadata": {},
   "outputs": [],
   "source": [
    "env.unwrapped.get_action_meanings()"
   ]
  },
  {
   "cell_type": "code",
   "execution_count": null,
   "metadata": {
    "scrolled": true
   },
   "outputs": [],
   "source": [
    "episodes = 5\n",
    "for episode in range(1, episodes+1):\n",
    "    state = env.reset()\n",
    "    done = False\n",
    "    score = 0 \n",
    "    \n",
    "    while not done:\n",
    "        env.render()\n",
    "        # action = random.choice([0,1,2,3,4,5])\n",
    "        action = env.action_space.sample()\n",
    "        # extract info from each episode\n",
    "        n_state, reward, done, info = env.step(action)\n",
    "        # append episode score to total score\n",
    "        score+=reward\n",
    "    print('Episode:{} Score:{}'.format(episode, score))\n",
    "env.close()"
   ]
  },
  {
   "cell_type": "markdown",
   "metadata": {},
   "source": [
    "# 2. Create a Deep Learning Model with Keras"
   ]
  },
  {
   "cell_type": "code",
   "execution_count": null,
   "metadata": {},
   "outputs": [],
   "source": [
    "import numpy as np\n",
    "# Sequencial deep learning model\n",
    "from tensorflow.keras.models import Sequential\n",
    "# Convolution to scan the performance\n",
    "from tensorflow.keras.layers import Dense, Flatten, Convolution2D\n",
    "# Optimizer Algorithm\n",
    "from tensorflow.keras.optimizers import Adam"
   ]
  },
  {
   "cell_type": "code",
   "execution_count": null,
   "metadata": {},
   "outputs": [],
   "source": [
    "def build_model(height, width, channels, actions):\n",
    "    # Started Sequential API with convolution 32 filters, 8x8matrixes with 4x4stride, relu function, 3 frames  \n",
    "    model = Sequential()\n",
    "    model.add(Convolution2D(32, (8,8), strides=(4,4), activation='relu', input_shape=(3, height, width, channels)))\n",
    "    # Adding more layers with different convolution matrixes\n",
    "    model.add(Convolution2D(64, (4,4), strides=(2,2), activation='relu'))\n",
    "    model.add(Convolution2D(64, (3,3), activation='relu'))\n",
    "    # Flatten all convolution layers into one\n",
    "    model.add(Flatten())\n",
    "    # Dense layers (aka fully connected layers), every unit in a layer is connected to every single unit the next one\n",
    "    # 512 Units, relu activation\n",
    "    model.add(Dense(512, activation='relu'))\n",
    "    # Compress dense layers\n",
    "    model.add(Dense(256, activation='relu'))\n",
    "    model.add(Dense(actions, activation='linear'))\n",
    "    return model"
   ]
  },
  {
   "cell_type": "code",
   "execution_count": null,
   "metadata": {},
   "outputs": [],
   "source": [
    "del model"
   ]
  },
  {
   "cell_type": "code",
   "execution_count": null,
   "metadata": {},
   "outputs": [],
   "source": [
    "# Building model\n",
    "model = build_model(height, width, channels, actions)"
   ]
  },
  {
   "cell_type": "code",
   "execution_count": null,
   "metadata": {},
   "outputs": [],
   "source": [
    "# Model Architecture\n",
    "model.summary()"
   ]
  },
  {
   "cell_type": "markdown",
   "metadata": {},
   "source": [
    "# 3. Build Agent with Keras-RL"
   ]
  },
  {
   "cell_type": "code",
   "execution_count": null,
   "metadata": {},
   "outputs": [],
   "source": [
    "# Reinforcement Learning Agent\n",
    "from rl.agents import DQNAgent\n",
    "# Knowledge buffer, retain information from previous games\n",
    "from rl.memory import SequentialMemory\n",
    "# When close to optimal strategy it starts closing / Best Reward Outcome\n",
    "from rl.policy import LinearAnnealedPolicy, EpsGreedyQPolicy"
   ]
  },
  {
   "cell_type": "code",
   "execution_count": null,
   "metadata": {},
   "outputs": [],
   "source": [
    "def build_agent(model, actions):\n",
    "    # \n",
    "    policy = LinearAnnealedPolicy(EpsGreedyQPolicy(), attr='eps', value_max=1., value_min=.1, value_test=.2, nb_steps=10000)\n",
    "    # Buffer limit, store the past 3 windows for 1000 episodes \n",
    "    memory = SequentialMemory(limit=1000, window_length=3)\n",
    "    \n",
    "    # dueling network (competing network or reinforcement learning model): \n",
    "    # splits Value/Advantage, helps the model learn when to take action or when not to bother\n",
    "    # can learn which states are (or are not) valuable, without having to learn the effect of each action for each state. \n",
    "    dqn = DQNAgent(model=model, memory=memory, policy=policy,\n",
    "                  enable_dueling_network=True, dueling_type='avg', \n",
    "                   nb_actions=actions, nb_steps_warmup=10000)\n",
    "    return dqn"
   ]
  },
  {
   "cell_type": "code",
   "execution_count": null,
   "metadata": {
    "scrolled": true
   },
   "outputs": [],
   "source": [
    "# Compile Agent with Adam Optimizer with a 0.0001 learning rate\n",
    "dqn = build_agent(model, actions)\n",
    "dqn.compile(Adam(learning_rate=1e-4))"
   ]
  },
  {
   "cell_type": "code",
   "execution_count": null,
   "metadata": {
    "scrolled": true
   },
   "outputs": [],
   "source": [
    "# fit model with 1000 episodes \n",
    "# Verbose 2: Visualize training output every couple episodes ( includes 1 -> live progress bar)\n",
    "# State of the art model at 10,000,000 steps\n",
    "dqn.fit(env, nb_steps=1000, visualize=False, verbose=2)"
   ]
  },
  {
   "cell_type": "code",
   "execution_count": null,
   "metadata": {
    "scrolled": false
   },
   "outputs": [],
   "source": [
    "scores = dqn.test(env, nb_episodes=10, visualize=True, verbose=2)\n",
    "print(np.mean(scores.history['episode_reward']))"
   ]
  },
  {
   "cell_type": "markdown",
   "metadata": {},
   "source": [
    "# 4. Reloading Agent from Memory"
   ]
  },
  {
   "cell_type": "code",
   "execution_count": null,
   "metadata": {},
   "outputs": [],
   "source": [
    "dqn.save_weights('SavedWeights/10k-Fast/dqn_weights.h5f')"
   ]
  },
  {
   "cell_type": "code",
   "execution_count": null,
   "metadata": {},
   "outputs": [],
   "source": [
    "del model, dqn"
   ]
  },
  {
   "cell_type": "code",
   "execution_count": null,
   "metadata": {},
   "outputs": [],
   "source": [
    "dqn.load_weights('SavedWeights/1m/dqn_weights.h5f')"
   ]
  }
 ],
 "metadata": {
  "kernelspec": {
   "display_name": "Python 3 (ipykernel)",
   "language": "python",
   "name": "python3"
  },
  "language_info": {
   "codemirror_mode": {
    "name": "ipython",
    "version": 3
   },
   "file_extension": ".py",
   "mimetype": "text/x-python",
   "name": "python",
   "nbconvert_exporter": "python",
   "pygments_lexer": "ipython3",
   "version": "3.9.7"
  }
 },
 "nbformat": 4,
 "nbformat_minor": 2
}
